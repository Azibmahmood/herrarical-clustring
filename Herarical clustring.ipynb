{
 "cells": [
  {
   "cell_type": "markdown",
   "id": "b9f4ae06",
   "metadata": {},
   "source": [
    "# Hierarchical clustering is an algorithm that groups similar objects into groups called clusters. The endpoint is a set of clusters, where each cluster is distinct from each other cluster, and the objects within each cluster are broadly similar to each other."
   ]
  },
  {
   "cell_type": "markdown",
   "id": "8e2a27ee",
   "metadata": {},
   "source": [
    "Importing necessary libraries"
   ]
  },
  {
   "cell_type": "code",
   "execution_count": 55,
   "id": "82a316ff",
   "metadata": {},
   "outputs": [],
   "source": [
    "import pandas as pd\n",
    "import numpy as np\n",
    "import matplotlib.pyplot as plt\n",
    "%matplotlib inline"
   ]
  },
  {
   "cell_type": "markdown",
   "id": "6a91695c",
   "metadata": {},
   "source": [
    "Now that our libraries are imported, let us read THE data to OUR workspace and print the first five rows using the head() function."
   ]
  },
  {
   "cell_type": "code",
   "execution_count": 56,
   "id": "3dfb8f6a",
   "metadata": {
    "scrolled": false
   },
   "outputs": [
    {
     "data": {
      "text/html": [
       "<div>\n",
       "<style scoped>\n",
       "    .dataframe tbody tr th:only-of-type {\n",
       "        vertical-align: middle;\n",
       "    }\n",
       "\n",
       "    .dataframe tbody tr th {\n",
       "        vertical-align: top;\n",
       "    }\n",
       "\n",
       "    .dataframe thead th {\n",
       "        text-align: right;\n",
       "    }\n",
       "</style>\n",
       "<table border=\"1\" class=\"dataframe\">\n",
       "  <thead>\n",
       "    <tr style=\"text-align: right;\">\n",
       "      <th></th>\n",
       "      <th>Fructose</th>\n",
       "      <th>Glucose</th>\n",
       "      <th>Maltose</th>\n",
       "      <th>Turanose</th>\n",
       "      <th>Mélibiose+ Isomaltose</th>\n",
       "      <th>Saccharose</th>\n",
       "      <th>Tréhalose</th>\n",
       "      <th>Gentibiose</th>\n",
       "      <th>Palatinose</th>\n",
       "      <th>Raffinose</th>\n",
       "      <th>Erlose</th>\n",
       "      <th>Mélézitose</th>\n",
       "      <th>Maltotriose</th>\n",
       "      <th>Panose</th>\n",
       "      <th>Isomaltotriose</th>\n",
       "    </tr>\n",
       "  </thead>\n",
       "  <tbody>\n",
       "    <tr>\n",
       "      <th>0</th>\n",
       "      <td>38.45</td>\n",
       "      <td>33.48</td>\n",
       "      <td>5.09</td>\n",
       "      <td>1.63</td>\n",
       "      <td>0.29</td>\n",
       "      <td>0.43</td>\n",
       "      <td>0.0</td>\n",
       "      <td>0.00</td>\n",
       "      <td>0</td>\n",
       "      <td>0.0</td>\n",
       "      <td>1.72</td>\n",
       "      <td>0.03</td>\n",
       "      <td>0.10</td>\n",
       "      <td>0</td>\n",
       "      <td>0</td>\n",
       "    </tr>\n",
       "    <tr>\n",
       "      <th>1</th>\n",
       "      <td>40.30</td>\n",
       "      <td>31.95</td>\n",
       "      <td>4.49</td>\n",
       "      <td>1.43</td>\n",
       "      <td>0.32</td>\n",
       "      <td>0.18</td>\n",
       "      <td>0.0</td>\n",
       "      <td>0.00</td>\n",
       "      <td>0</td>\n",
       "      <td>0.0</td>\n",
       "      <td>0.53</td>\n",
       "      <td>0.04</td>\n",
       "      <td>0.05</td>\n",
       "      <td>0</td>\n",
       "      <td>0</td>\n",
       "    </tr>\n",
       "    <tr>\n",
       "      <th>2</th>\n",
       "      <td>38.80</td>\n",
       "      <td>34.46</td>\n",
       "      <td>4.00</td>\n",
       "      <td>1.42</td>\n",
       "      <td>0.28</td>\n",
       "      <td>0.20</td>\n",
       "      <td>0.0</td>\n",
       "      <td>0.00</td>\n",
       "      <td>0</td>\n",
       "      <td>0.0</td>\n",
       "      <td>1.32</td>\n",
       "      <td>0.04</td>\n",
       "      <td>0.38</td>\n",
       "      <td>0</td>\n",
       "      <td>0</td>\n",
       "    </tr>\n",
       "    <tr>\n",
       "      <th>3</th>\n",
       "      <td>37.89</td>\n",
       "      <td>32.56</td>\n",
       "      <td>5.34</td>\n",
       "      <td>1.74</td>\n",
       "      <td>0.56</td>\n",
       "      <td>0.50</td>\n",
       "      <td>0.0</td>\n",
       "      <td>0.14</td>\n",
       "      <td>0</td>\n",
       "      <td>0.0</td>\n",
       "      <td>1.71</td>\n",
       "      <td>0.06</td>\n",
       "      <td>0.15</td>\n",
       "      <td>0</td>\n",
       "      <td>0</td>\n",
       "    </tr>\n",
       "    <tr>\n",
       "      <th>4</th>\n",
       "      <td>37.16</td>\n",
       "      <td>33.91</td>\n",
       "      <td>5.12</td>\n",
       "      <td>1.65</td>\n",
       "      <td>0.45</td>\n",
       "      <td>0.45</td>\n",
       "      <td>0.0</td>\n",
       "      <td>0.00</td>\n",
       "      <td>0</td>\n",
       "      <td>0.0</td>\n",
       "      <td>1.36</td>\n",
       "      <td>0.06</td>\n",
       "      <td>0.13</td>\n",
       "      <td>0</td>\n",
       "      <td>0</td>\n",
       "    </tr>\n",
       "  </tbody>\n",
       "</table>\n",
       "</div>"
      ],
      "text/plain": [
       "   Fructose  Glucose  Maltose  Turanose  Mélibiose+ Isomaltose  Saccharose  \\\n",
       "0     38.45    33.48     5.09      1.63                   0.29        0.43   \n",
       "1     40.30    31.95     4.49      1.43                   0.32        0.18   \n",
       "2     38.80    34.46     4.00      1.42                   0.28        0.20   \n",
       "3     37.89    32.56     5.34      1.74                   0.56        0.50   \n",
       "4     37.16    33.91     5.12      1.65                   0.45        0.45   \n",
       "\n",
       "   Tréhalose  Gentibiose  Palatinose  Raffinose  Erlose  Mélézitose  \\\n",
       "0        0.0        0.00           0        0.0    1.72        0.03   \n",
       "1        0.0        0.00           0        0.0    0.53        0.04   \n",
       "2        0.0        0.00           0        0.0    1.32        0.04   \n",
       "3        0.0        0.14           0        0.0    1.71        0.06   \n",
       "4        0.0        0.00           0        0.0    1.36        0.06   \n",
       "\n",
       "   Maltotriose  Panose  Isomaltotriose  \n",
       "0         0.10       0               0  \n",
       "1         0.05       0               0  \n",
       "2         0.38       0               0  \n",
       "3         0.15       0               0  \n",
       "4         0.13       0               0  "
      ]
     },
     "execution_count": 56,
     "metadata": {},
     "output_type": "execute_result"
    }
   ],
   "source": [
    "data = pd.read_excel (r'dataset1.xlsx')\n",
    "data.head()"
   ]
  },
  {
   "cell_type": "markdown",
   "id": "f7ce6b87",
   "metadata": {},
   "source": [
    "the shape attribute will tell us how many rows and columns we have, respectively"
   ]
  },
  {
   "cell_type": "code",
   "execution_count": 52,
   "id": "49b55fb5",
   "metadata": {
    "scrolled": true
   },
   "outputs": [
    {
     "data": {
      "text/plain": [
       "(34, 15)"
      ]
     },
     "execution_count": 52,
     "metadata": {},
     "output_type": "execute_result"
    }
   ],
   "source": [
    "data.shape"
   ]
  },
  {
   "cell_type": "markdown",
   "id": "65b99e9c",
   "metadata": {},
   "source": [
    "To see what characteristics has collected, we can see column names with the columns attribute. To do that, execute:"
   ]
  },
  {
   "cell_type": "code",
   "execution_count": 54,
   "id": "b36e06d5",
   "metadata": {},
   "outputs": [
    {
     "data": {
      "text/plain": [
       "Index(['Fructose', 'Glucose', 'Maltose', 'Turanose', 'Mélibiose+ Isomaltose',\n",
       "       'Saccharose', 'Tréhalose', 'Gentibiose', 'Palatinose', 'Raffinose',\n",
       "       'Erlose', 'Mélézitose', 'Maltotriose', 'Panose', 'Isomaltotriose'],\n",
       "      dtype='object')"
      ]
     },
     "execution_count": 54,
     "metadata": {},
     "output_type": "execute_result"
    }
   ],
   "source": [
    "data.columns"
   ]
  },
  {
   "cell_type": "code",
   "execution_count": 25,
   "id": "57d838a6",
   "metadata": {},
   "outputs": [
    {
     "data": {
      "text/html": [
       "<div>\n",
       "<style scoped>\n",
       "    .dataframe tbody tr th:only-of-type {\n",
       "        vertical-align: middle;\n",
       "    }\n",
       "\n",
       "    .dataframe tbody tr th {\n",
       "        vertical-align: top;\n",
       "    }\n",
       "\n",
       "    .dataframe thead th {\n",
       "        text-align: right;\n",
       "    }\n",
       "</style>\n",
       "<table border=\"1\" class=\"dataframe\">\n",
       "  <thead>\n",
       "    <tr style=\"text-align: right;\">\n",
       "      <th></th>\n",
       "      <th>Fructose</th>\n",
       "      <th>Glucose</th>\n",
       "      <th>Maltose</th>\n",
       "      <th>Turanose</th>\n",
       "      <th>Mélibiose+ Isomaltose</th>\n",
       "      <th>Saccharose</th>\n",
       "      <th>Tréhalose</th>\n",
       "      <th>Gentibiose</th>\n",
       "      <th>Palatinose</th>\n",
       "      <th>Raffinose</th>\n",
       "      <th>Erlose</th>\n",
       "      <th>Mélézitose</th>\n",
       "      <th>Maltotriose</th>\n",
       "      <th>Panose</th>\n",
       "      <th>Isomaltotriose</th>\n",
       "    </tr>\n",
       "  </thead>\n",
       "  <tbody>\n",
       "    <tr>\n",
       "      <th>0</th>\n",
       "      <td>0.749594</td>\n",
       "      <td>0.652703</td>\n",
       "      <td>0.099231</td>\n",
       "      <td>0.031777</td>\n",
       "      <td>0.005654</td>\n",
       "      <td>0.008383</td>\n",
       "      <td>0.0</td>\n",
       "      <td>0.000000</td>\n",
       "      <td>0.0</td>\n",
       "      <td>0.0</td>\n",
       "      <td>0.033532</td>\n",
       "      <td>0.000585</td>\n",
       "      <td>0.001950</td>\n",
       "      <td>0.0</td>\n",
       "      <td>0.0</td>\n",
       "    </tr>\n",
       "    <tr>\n",
       "      <th>1</th>\n",
       "      <td>0.780282</td>\n",
       "      <td>0.618610</td>\n",
       "      <td>0.086935</td>\n",
       "      <td>0.027687</td>\n",
       "      <td>0.006196</td>\n",
       "      <td>0.003485</td>\n",
       "      <td>0.0</td>\n",
       "      <td>0.000000</td>\n",
       "      <td>0.0</td>\n",
       "      <td>0.0</td>\n",
       "      <td>0.010262</td>\n",
       "      <td>0.000774</td>\n",
       "      <td>0.000968</td>\n",
       "      <td>0.0</td>\n",
       "      <td>0.0</td>\n",
       "    </tr>\n",
       "    <tr>\n",
       "      <th>2</th>\n",
       "      <td>0.744921</td>\n",
       "      <td>0.661598</td>\n",
       "      <td>0.076796</td>\n",
       "      <td>0.027263</td>\n",
       "      <td>0.005376</td>\n",
       "      <td>0.003840</td>\n",
       "      <td>0.0</td>\n",
       "      <td>0.000000</td>\n",
       "      <td>0.0</td>\n",
       "      <td>0.0</td>\n",
       "      <td>0.025343</td>\n",
       "      <td>0.000768</td>\n",
       "      <td>0.007296</td>\n",
       "      <td>0.0</td>\n",
       "      <td>0.0</td>\n",
       "    </tr>\n",
       "    <tr>\n",
       "      <th>3</th>\n",
       "      <td>0.753162</td>\n",
       "      <td>0.647215</td>\n",
       "      <td>0.106146</td>\n",
       "      <td>0.034587</td>\n",
       "      <td>0.011131</td>\n",
       "      <td>0.009939</td>\n",
       "      <td>0.0</td>\n",
       "      <td>0.002783</td>\n",
       "      <td>0.0</td>\n",
       "      <td>0.0</td>\n",
       "      <td>0.033991</td>\n",
       "      <td>0.001193</td>\n",
       "      <td>0.002982</td>\n",
       "      <td>0.0</td>\n",
       "      <td>0.0</td>\n",
       "    </tr>\n",
       "    <tr>\n",
       "      <th>4</th>\n",
       "      <td>0.734157</td>\n",
       "      <td>0.669948</td>\n",
       "      <td>0.101154</td>\n",
       "      <td>0.032598</td>\n",
       "      <td>0.008890</td>\n",
       "      <td>0.008890</td>\n",
       "      <td>0.0</td>\n",
       "      <td>0.000000</td>\n",
       "      <td>0.0</td>\n",
       "      <td>0.0</td>\n",
       "      <td>0.026869</td>\n",
       "      <td>0.001185</td>\n",
       "      <td>0.002568</td>\n",
       "      <td>0.0</td>\n",
       "      <td>0.0</td>\n",
       "    </tr>\n",
       "  </tbody>\n",
       "</table>\n",
       "</div>"
      ],
      "text/plain": [
       "   Fructose   Glucose   Maltose  Turanose  Mélibiose+ Isomaltose  Saccharose  \\\n",
       "0  0.749594  0.652703  0.099231  0.031777               0.005654    0.008383   \n",
       "1  0.780282  0.618610  0.086935  0.027687               0.006196    0.003485   \n",
       "2  0.744921  0.661598  0.076796  0.027263               0.005376    0.003840   \n",
       "3  0.753162  0.647215  0.106146  0.034587               0.011131    0.009939   \n",
       "4  0.734157  0.669948  0.101154  0.032598               0.008890    0.008890   \n",
       "\n",
       "   Tréhalose  Gentibiose  Palatinose  Raffinose    Erlose  Mélézitose  \\\n",
       "0        0.0    0.000000         0.0        0.0  0.033532    0.000585   \n",
       "1        0.0    0.000000         0.0        0.0  0.010262    0.000774   \n",
       "2        0.0    0.000000         0.0        0.0  0.025343    0.000768   \n",
       "3        0.0    0.002783         0.0        0.0  0.033991    0.001193   \n",
       "4        0.0    0.000000         0.0        0.0  0.026869    0.001185   \n",
       "\n",
       "   Maltotriose  Panose  Isomaltotriose  \n",
       "0     0.001950     0.0             0.0  \n",
       "1     0.000968     0.0             0.0  \n",
       "2     0.007296     0.0             0.0  \n",
       "3     0.002982     0.0             0.0  \n",
       "4     0.002568     0.0             0.0  "
      ]
     },
     "execution_count": 25,
     "metadata": {},
     "output_type": "execute_result"
    }
   ],
   "source": [
    "from sklearn.preprocessing import normalize\n",
    "data_scaled = normalize(data)\n",
    "data_scaled = pd.DataFrame(data_scaled, columns=data.columns)\n",
    "data_scaled.head()"
   ]
  },
  {
   "cell_type": "code",
   "execution_count": 40,
   "id": "000163f2",
   "metadata": {},
   "outputs": [
    {
     "data": {
      "image/png": "[encoded data removed]",
      "text/plain": [
       "<Figure size 864x576 with 1 Axes>"
      ]
     },
     "metadata": {
      "needs_background": "light"
     },
     "output_type": "display_data"
    }
   ],
   "source": [
    "import scipy.cluster.hierarchy as shc\n",
    "plt.figure(figsize=(12, 8))  \n",
    "plt.title(\"Dendrograms\")  \n",
    "dend = shc.dendrogram(shc.linkage(data_scaled, method='ward'))"
   ]
  },
  {
   "cell_type": "code",
   "execution_count": 41,
   "id": "7232f7e4",
   "metadata": {},
   "outputs": [
    {
     "data": {
      "text/plain": [
       "<matplotlib.lines.Line2D at 0x2dcc45d4fa0>"
      ]
     },
     "execution_count": 41,
     "metadata": {},
     "output_type": "execute_result"
    },
    {
     "data": {
      "image/png": "[encoded data removed]",
      "text/plain": [
       "<Figure size 864x576 with 1 Axes>"
      ]
     },
     "metadata": {
      "needs_background": "light"
     },
     "output_type": "display_data"
    }
   ],
   "source": [
    "plt.figure(figsize=(12, 8))  \n",
    "plt.title(\"Dendrograms\")  \n",
    "dend = shc.dendrogram(shc.linkage(data_scaled, method='ward'))\n",
    "plt.axhline(y=0.125, color='r', linestyle='--')"
   ]
  },
  {
   "cell_type": "code",
   "execution_count": 46,
   "id": "822cca35",
   "metadata": {},
   "outputs": [
    {
     "data": {
      "text/plain": [
       "array([1, 0, 1, 1, 1, 1, 0, 1, 1, 2, 0, 0, 0, 0, 0, 0, 1, 1, 1, 0, 0, 0,\n",
       "       0, 0, 1, 0, 1, 0, 0, 0, 0, 1, 0, 0], dtype=int64)"
      ]
     },
     "execution_count": 46,
     "metadata": {},
     "output_type": "execute_result"
    }
   ],
   "source": [
    "from sklearn.cluster import AgglomerativeClustering\n",
    "cluster = AgglomerativeClustering(n_clusters=2, affinity='euclidean', linkage='ward')  \n",
    "cluster.fit_predict(data_scaled)"
   ]
  },
  {
   "cell_type": "code",
   "execution_count": 50,
   "id": "fd941e48",
   "metadata": {},
   "outputs": [
    {
     "data": {
      "text/plain": [
       "<matplotlib.collections.PathCollection at 0x2dcc4499820>"
      ]
     },
     "execution_count": 50,
     "metadata": {},
     "output_type": "execute_result"
    },
    {
     "data": {
      "image/png": "[encoded data removed]",
      "text/plain": [
       "<Figure size 864x576 with 1 Axes>"
      ]
     },
     "metadata": {
      "needs_background": "light"
     },
     "output_type": "display_data"
    }
   ],
   "source": [
    "plt.figure(figsize=(12, 8))  \n",
    "plt.scatter(data_scaled['Saccharose'], data_scaled['Tréhalose'], c=cluster.labels_) "
   ]
  },
  {
   "cell_type": "code",
   "execution_count": null,
   "id": "3d3cce01",
   "metadata": {},
   "outputs": [],
   "source": []
  }
 ],
 "metadata": {
  "kernelspec": {
   "display_name": "Python 3 (ipykernel)",
   "language": "python",
   "name": "python3"
  },
  "language_info": {
   "codemirror_mode": {
    "name": "ipython",
    "version": 3
   },
   "file_extension": ".py",
   "mimetype": "text/x-python",
   "name": "python",
   "nbconvert_exporter": "python",
   "pygments_lexer": "ipython3",
   "version": "3.9.7"
  }
 },
 "nbformat": 4,
 "nbformat_minor": 5
}
