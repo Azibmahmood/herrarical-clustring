{
 "cells": [
  {
   "cell_type": "code",
   "execution_count": 12,
   "id": "d98c96cc",
   "metadata": {},
   "outputs": [],
   "source": [
    "import pandas as pd\n",
    "import numpy as np\n",
    "import matplotlib.pyplot as plt\n",
    "%matplotlib inline"
   ]
  },
  {
   "cell_type": "markdown",
   "id": "139be98b",
   "metadata": {},
   "source": [
    "in this we are using all the attributes from 0 to 14 we have seven clustor by using and we dont scaled the data just simply use all the values to show dendograms and clusters"
   ]
  },
  {
   "cell_type": "code",
   "execution_count": 58,
   "id": "d8329e48",
   "metadata": {},
   "outputs": [
    {
     "data": {
      "text/html": [
       "<div>\n",
       "<style scoped>\n",
       "    .dataframe tbody tr th:only-of-type {\n",
       "        vertical-align: middle;\n",
       "    }\n",
       "\n",
       "    .dataframe tbody tr th {\n",
       "        vertical-align: top;\n",
       "    }\n",
       "\n",
       "    .dataframe thead th {\n",
       "        text-align: right;\n",
       "    }\n",
       "</style>\n",
       "<table border=\"1\" class=\"dataframe\">\n",
       "  <thead>\n",
       "    <tr style=\"text-align: right;\">\n",
       "      <th></th>\n",
       "      <th>Fructose</th>\n",
       "      <th>Glucose</th>\n",
       "      <th>Maltose</th>\n",
       "      <th>Turanose</th>\n",
       "      <th>Mélibiose+ Isomaltose</th>\n",
       "      <th>Saccharose</th>\n",
       "      <th>Tréhalose</th>\n",
       "      <th>Gentibiose</th>\n",
       "      <th>Palatinose</th>\n",
       "      <th>Raffinose</th>\n",
       "      <th>Erlose</th>\n",
       "      <th>Mélézitose</th>\n",
       "      <th>Maltotriose</th>\n",
       "      <th>Panose</th>\n",
       "      <th>Isomaltotriose</th>\n",
       "    </tr>\n",
       "  </thead>\n",
       "  <tbody>\n",
       "    <tr>\n",
       "      <th>0</th>\n",
       "      <td>38.45</td>\n",
       "      <td>33.48</td>\n",
       "      <td>5.09</td>\n",
       "      <td>1.63</td>\n",
       "      <td>0.29</td>\n",
       "      <td>0.43</td>\n",
       "      <td>0.0</td>\n",
       "      <td>0.00</td>\n",
       "      <td>0</td>\n",
       "      <td>0.0</td>\n",
       "      <td>1.72</td>\n",
       "      <td>0.03</td>\n",
       "      <td>0.10</td>\n",
       "      <td>0</td>\n",
       "      <td>0</td>\n",
       "    </tr>\n",
       "    <tr>\n",
       "      <th>1</th>\n",
       "      <td>40.30</td>\n",
       "      <td>31.95</td>\n",
       "      <td>4.49</td>\n",
       "      <td>1.43</td>\n",
       "      <td>0.32</td>\n",
       "      <td>0.18</td>\n",
       "      <td>0.0</td>\n",
       "      <td>0.00</td>\n",
       "      <td>0</td>\n",
       "      <td>0.0</td>\n",
       "      <td>0.53</td>\n",
       "      <td>0.04</td>\n",
       "      <td>0.05</td>\n",
       "      <td>0</td>\n",
       "      <td>0</td>\n",
       "    </tr>\n",
       "    <tr>\n",
       "      <th>2</th>\n",
       "      <td>38.80</td>\n",
       "      <td>34.46</td>\n",
       "      <td>4.00</td>\n",
       "      <td>1.42</td>\n",
       "      <td>0.28</td>\n",
       "      <td>0.20</td>\n",
       "      <td>0.0</td>\n",
       "      <td>0.00</td>\n",
       "      <td>0</td>\n",
       "      <td>0.0</td>\n",
       "      <td>1.32</td>\n",
       "      <td>0.04</td>\n",
       "      <td>0.38</td>\n",
       "      <td>0</td>\n",
       "      <td>0</td>\n",
       "    </tr>\n",
       "    <tr>\n",
       "      <th>3</th>\n",
       "      <td>37.89</td>\n",
       "      <td>32.56</td>\n",
       "      <td>5.34</td>\n",
       "      <td>1.74</td>\n",
       "      <td>0.56</td>\n",
       "      <td>0.50</td>\n",
       "      <td>0.0</td>\n",
       "      <td>0.14</td>\n",
       "      <td>0</td>\n",
       "      <td>0.0</td>\n",
       "      <td>1.71</td>\n",
       "      <td>0.06</td>\n",
       "      <td>0.15</td>\n",
       "      <td>0</td>\n",
       "      <td>0</td>\n",
       "    </tr>\n",
       "    <tr>\n",
       "      <th>4</th>\n",
       "      <td>37.16</td>\n",
       "      <td>33.91</td>\n",
       "      <td>5.12</td>\n",
       "      <td>1.65</td>\n",
       "      <td>0.45</td>\n",
       "      <td>0.45</td>\n",
       "      <td>0.0</td>\n",
       "      <td>0.00</td>\n",
       "      <td>0</td>\n",
       "      <td>0.0</td>\n",
       "      <td>1.36</td>\n",
       "      <td>0.06</td>\n",
       "      <td>0.13</td>\n",
       "      <td>0</td>\n",
       "      <td>0</td>\n",
       "    </tr>\n",
       "  </tbody>\n",
       "</table>\n",
       "</div>"
      ],
      "text/plain": [
       "   Fructose  Glucose  Maltose  Turanose  Mélibiose+ Isomaltose  Saccharose  \\\n",
       "0     38.45    33.48     5.09      1.63                   0.29        0.43   \n",
       "1     40.30    31.95     4.49      1.43                   0.32        0.18   \n",
       "2     38.80    34.46     4.00      1.42                   0.28        0.20   \n",
       "3     37.89    32.56     5.34      1.74                   0.56        0.50   \n",
       "4     37.16    33.91     5.12      1.65                   0.45        0.45   \n",
       "\n",
       "   Tréhalose  Gentibiose  Palatinose  Raffinose  Erlose  Mélézitose  \\\n",
       "0        0.0        0.00           0        0.0    1.72        0.03   \n",
       "1        0.0        0.00           0        0.0    0.53        0.04   \n",
       "2        0.0        0.00           0        0.0    1.32        0.04   \n",
       "3        0.0        0.14           0        0.0    1.71        0.06   \n",
       "4        0.0        0.00           0        0.0    1.36        0.06   \n",
       "\n",
       "   Maltotriose  Panose  Isomaltotriose  \n",
       "0         0.10       0               0  \n",
       "1         0.05       0               0  \n",
       "2         0.38       0               0  \n",
       "3         0.15       0               0  \n",
       "4         0.13       0               0  "
      ]
     },
     "execution_count": 58,
     "metadata": {},
     "output_type": "execute_result"
    }
   ],
   "source": [
    "data = pd.read_excel (r'dataset1.xlsx')\n",
    "data.head()"
   ]
  },
  {
   "cell_type": "code",
   "execution_count": 59,
   "id": "c154fece",
   "metadata": {},
   "outputs": [
    {
     "data": {
      "text/plain": [
       "(34, 15)"
      ]
     },
     "execution_count": 59,
     "metadata": {},
     "output_type": "execute_result"
    }
   ],
   "source": [
    "data.shape"
   ]
  },
  {
   "cell_type": "code",
   "execution_count": 60,
   "id": "08e8b2b6",
   "metadata": {},
   "outputs": [
    {
     "data": {
      "text/plain": [
       "Index(['Fructose', 'Glucose', 'Maltose', 'Turanose', 'Mélibiose+ Isomaltose',\n",
       "       'Saccharose', 'Tréhalose', 'Gentibiose', 'Palatinose', 'Raffinose',\n",
       "       'Erlose', 'Mélézitose', 'Maltotriose', 'Panose', 'Isomaltotriose'],\n",
       "      dtype='object')"
      ]
     },
     "execution_count": 60,
     "metadata": {},
     "output_type": "execute_result"
    }
   ],
   "source": [
    "data.columns"
   ]
  },
  {
   "cell_type": "code",
   "execution_count": 61,
   "id": "b66f0bd2",
   "metadata": {},
   "outputs": [],
   "source": [
    "df = data.iloc[:, 0:14].values"
   ]
  },
  {
   "cell_type": "code",
   "execution_count": 62,
   "id": "e2eb9f29",
   "metadata": {},
   "outputs": [
    {
     "data": {
      "text/plain": [
       "array([[3.845e+01, 3.348e+01, 5.090e+00, 1.630e+00, 2.900e-01, 4.300e-01,\n",
       "        0.000e+00, 0.000e+00, 0.000e+00, 0.000e+00, 1.720e+00, 3.000e-02,\n",
       "        1.000e-01, 0.000e+00],\n",
       "       [4.030e+01, 3.195e+01, 4.490e+00, 1.430e+00, 3.200e-01, 1.800e-01,\n",
       "        0.000e+00, 0.000e+00, 0.000e+00, 0.000e+00, 5.300e-01, 4.000e-02,\n",
       "        5.000e-02, 0.000e+00],\n",
       "       [3.880e+01, 3.446e+01, 4.000e+00, 1.420e+00, 2.800e-01, 2.000e-01,\n",
       "        0.000e+00, 0.000e+00, 0.000e+00, 0.000e+00, 1.320e+00, 4.000e-02,\n",
       "        3.800e-01, 0.000e+00],\n",
       "       [3.789e+01, 3.256e+01, 5.340e+00, 1.740e+00, 5.600e-01, 5.000e-01,\n",
       "        0.000e+00, 1.400e-01, 0.000e+00, 0.000e+00, 1.710e+00, 6.000e-02,\n",
       "        1.500e-01, 0.000e+00],\n",
       "       [3.716e+01, 3.391e+01, 5.120e+00, 1.650e+00, 4.500e-01, 4.500e-01,\n",
       "        0.000e+00, 0.000e+00, 0.000e+00, 0.000e+00, 1.360e+00, 6.000e-02,\n",
       "        1.300e-01, 0.000e+00],\n",
       "       [3.875e+01, 3.495e+01, 4.510e+00, 1.450e+00, 2.500e-01, 5.300e-01,\n",
       "        0.000e+00, 0.000e+00, 0.000e+00, 0.000e+00, 1.160e+00, 2.000e-02,\n",
       "        1.600e-01, 0.000e+00],\n",
       "       [3.883e+01, 3.150e+01, 4.360e+00, 1.370e+00, 2.800e-01, 2.100e-01,\n",
       "        0.000e+00, 0.000e+00, 0.000e+00, 0.000e+00, 1.170e+00, 2.000e-02,\n",
       "        1.600e-01, 0.000e+00],\n",
       "       [3.832e+01, 3.399e+01, 4.980e+00, 1.740e+00, 2.700e-01, 8.200e-01,\n",
       "        0.000e+00, 0.000e+00, 0.000e+00, 0.000e+00, 1.600e+00, 3.000e-02,\n",
       "        1.700e-01, 0.000e+00],\n",
       "       [3.831e+01, 3.246e+01, 5.140e+00, 1.650e+00, 3.000e-01, 4.200e-01,\n",
       "        0.000e+00, 0.000e+00, 0.000e+00, 0.000e+00, 1.760e+00, 3.000e-02,\n",
       "        1.500e-01, 0.000e+00],\n",
       "       [3.950e+01, 3.235e+01, 4.300e-01, 1.680e+00, 2.400e-01, 6.900e-01,\n",
       "        0.000e+00, 7.000e-02, 0.000e+00, 0.000e+00, 2.100e+00, 2.200e-01,\n",
       "        1.400e-01, 0.000e+00],\n",
       "       [3.816e+01, 3.152e+01, 4.440e+00, 1.490e+00, 3.800e-01, 6.700e-01,\n",
       "        2.300e-01, 0.000e+00, 0.000e+00, 0.000e+00, 8.600e-01, 6.100e-01,\n",
       "        1.200e-01, 0.000e+00],\n",
       "       [4.000e+01, 3.060e+01, 4.410e+00, 1.400e+00, 3.100e-01, 1.600e-01,\n",
       "        0.000e+00, 0.000e+00, 0.000e+00, 0.000e+00, 5.700e-01, 4.000e-02,\n",
       "        3.000e-02, 0.000e+00],\n",
       "       [3.937e+01, 3.280e+01, 3.470e+00, 1.170e+00, 2.200e-01, 1.200e-01,\n",
       "        0.000e+00, 0.000e+00, 0.000e+00, 0.000e+00, 7.800e-01, 4.000e-02,\n",
       "        4.000e-02, 0.000e+00],\n",
       "       [3.918e+01, 2.992e+01, 4.030e+00, 1.430e+00, 3.100e-01, 1.100e-01,\n",
       "        6.000e-02, 3.800e-01, 0.000e+00, 2.500e+00, 8.000e-01, 2.400e-01,\n",
       "        3.000e-01, 0.000e+00],\n",
       "       [3.649e+01, 2.984e+01, 3.910e+00, 1.420e+00, 2.900e-01, 1.100e-01,\n",
       "        1.200e-01, 3.700e-01, 0.000e+00, 1.530e+00, 1.110e+00, 2.500e-01,\n",
       "        3.200e-01, 0.000e+00],\n",
       "       [3.903e+01, 3.185e+01, 4.290e+00, 1.550e+00, 2.900e-01, 2.360e+00,\n",
       "        7.000e-02, 2.900e-01, 0.000e+00, 0.000e+00, 1.150e+00, 5.000e-02,\n",
       "        2.000e-01, 0.000e+00],\n",
       "       [3.731e+01, 3.378e+01, 3.620e+00, 1.240e-01, 2.000e-01, 4.700e-01,\n",
       "        3.000e-02, 0.000e+00, 0.000e+00, 0.000e+00, 6.200e-01, 1.100e-01,\n",
       "        6.000e-02, 0.000e+00],\n",
       "       [3.792e+01, 3.213e+01, 4.360e+00, 1.760e+00, 3.800e-01, 5.400e-01,\n",
       "        0.000e+00, 1.900e-01, 0.000e+00, 0.000e+00, 2.320e+00, 4.000e-02,\n",
       "        1.500e-01, 0.000e+00],\n",
       "       [3.934e+01, 3.438e+01, 3.840e+00, 1.670e+00, 3.600e-01, 5.100e-01,\n",
       "        2.000e-02, 2.000e-01, 0.000e+00, 0.000e+00, 2.410e+00, 5.000e-02,\n",
       "        2.400e-01, 0.000e+00],\n",
       "       [4.098e+01, 3.416e+01, 4.340e+00, 1.380e+00, 2.700e-01, 1.100e-01,\n",
       "        7.000e-02, 0.000e+00, 0.000e+00, 0.000e+00, 3.000e-01, 5.000e-02,\n",
       "        4.000e-02, 0.000e+00],\n",
       "       [3.832e+01, 2.978e+01, 4.650e+00, 1.580e+00, 8.900e-01, 5.000e-02,\n",
       "        1.400e-01, 1.900e-01, 0.000e+00, 0.000e+00, 2.500e-01, 7.000e-02,\n",
       "        9.000e-02, 0.000e+00],\n",
       "       [4.027e+01, 3.197e+01, 4.880e+00, 1.490e+00, 4.400e-01, 9.000e-02,\n",
       "        4.000e-02, 2.300e-01, 0.000e+00, 0.000e+00, 9.900e-01, 1.300e-01,\n",
       "        1.300e-01, 0.000e+00],\n",
       "       [4.218e+01, 3.314e+01, 3.670e+00, 1.170e+00, 2.400e-01, 5.000e-02,\n",
       "        0.000e+00, 0.000e+00, 0.000e+00, 0.000e+00, 3.500e-01, 3.000e-02,\n",
       "        5.000e-02, 0.000e+00],\n",
       "       [4.292e+01, 3.214e+01, 2.980e+00, 1.050e+00, 2.200e-01, 6.000e-01,\n",
       "        0.000e+00, 0.000e+00, 0.000e+00, 0.000e+00, 4.200e-01, 0.000e+00,\n",
       "        6.000e-02, 0.000e+00],\n",
       "       [4.085e+01, 3.494e+01, 4.260e+00, 1.360e+00, 3.100e-01, 1.300e-01,\n",
       "        0.000e+00, 5.000e-02, 0.000e+00, 0.000e+00, 1.650e+00, 4.000e-02,\n",
       "        9.000e-02, 0.000e+00],\n",
       "       [4.165e+01, 3.421e+01, 4.030e+00, 1.500e+00, 4.700e-01, 6.000e-02,\n",
       "        9.000e-02, 1.800e-01, 0.000e+00, 0.000e+00, 6.900e-01, 2.300e-01,\n",
       "        1.300e-01, 0.000e+00],\n",
       "       [4.001e+01, 3.380e+01, 4.120e+00, 1.400e+00, 2.800e-01, 8.000e-02,\n",
       "        0.000e+00, 1.600e-01, 0.000e+00, 0.000e+00, 1.360e+00, 7.000e-02,\n",
       "        2.100e-01, 0.000e+00],\n",
       "       [4.021e+01, 3.150e+01, 4.180e+00, 1.540e+00, 4.600e-01, 1.900e-01,\n",
       "        1.800e-01, 4.600e-01, 0.000e+00, 0.000e+00, 6.700e-01, 3.700e-01,\n",
       "        2.900e-01, 0.000e+00],\n",
       "       [4.136e+01, 3.036e+01, 4.390e+00, 1.160e+00, 6.200e-01, 5.000e-02,\n",
       "        0.000e+00, 0.000e+00, 0.000e+00, 0.000e+00, 2.700e-01, 2.000e-02,\n",
       "        4.000e-02, 0.000e+00],\n",
       "       [4.009e+01, 3.328e+01, 3.820e+00, 1.450e+00, 4.400e-01, 8.000e-02,\n",
       "        9.000e-02, 0.000e+00, 0.000e+00, 0.000e+00, 6.300e-01, 2.100e-01,\n",
       "        1.500e-01, 0.000e+00],\n",
       "       [3.922e+01, 3.213e+01, 4.340e+00, 1.330e+00, 5.000e-01, 4.000e-01,\n",
       "        1.000e-01, 2.600e-01, 0.000e+00, 0.000e+00, 2.500e-01, 1.300e-01,\n",
       "        8.000e-02, 0.000e+00],\n",
       "       [3.915e+01, 3.266e+01, 3.580e+00, 1.790e+00, 4.000e-01, 7.000e-01,\n",
       "        0.000e+00, 1.400e-01, 0.000e+00, 0.000e+00, 1.860e+00, 8.000e-02,\n",
       "        2.700e-01, 0.000e+00],\n",
       "       [3.915e+01, 3.241e+01, 3.720e+00, 1.340e+00, 3.700e-01, 2.100e-01,\n",
       "        0.000e+00, 0.000e+00, 0.000e+00, 0.000e+00, 2.700e-01, 1.160e+00,\n",
       "        6.000e-02, 0.000e+00],\n",
       "       [4.109e+01, 3.214e+01, 4.590e+00, 1.580e+00, 6.200e-01, 1.100e-01,\n",
       "        0.000e+00, 1.800e-01, 0.000e+00, 0.000e+00, 8.400e-01, 5.000e-02,\n",
       "        7.000e-02, 0.000e+00]])"
      ]
     },
     "execution_count": 62,
     "metadata": {},
     "output_type": "execute_result"
    }
   ],
   "source": [
    "df"
   ]
  },
  {
   "cell_type": "code",
   "execution_count": 65,
   "id": "a80b1933",
   "metadata": {},
   "outputs": [
    {
     "data": {
      "image/png": "[encoded data removed]",
      "text/plain": [
       "<Figure size 720x504 with 1 Axes>"
      ]
     },
     "metadata": {
      "needs_background": "light"
     },
     "output_type": "display_data"
    }
   ],
   "source": [
    "import scipy.cluster.hierarchy as shc\n",
    "\n",
    "plt.figure(figsize=(10, 7))\n",
    "plt.title(\"Customer Dendograms\")\n",
    "dend = shc.dendrogram(shc.linkage(df, method='ward'))"
   ]
  },
  {
   "cell_type": "code",
   "execution_count": 66,
   "id": "20edcb32",
   "metadata": {},
   "outputs": [],
   "source": [
    "from sklearn.cluster import AgglomerativeClustering\n",
    "\n",
    "cluster = AgglomerativeClustering(n_clusters=2, affinity='euclidean', linkage='ward')\n",
    "labels_=cluster.fit_predict(df)"
   ]
  },
  {
   "cell_type": "code",
   "execution_count": 67,
   "id": "8ef69133",
   "metadata": {},
   "outputs": [
    {
     "data": {
      "text/plain": [
       "array([0, 1, 0, 0, 0, 0, 1, 0, 0, 1, 1, 1, 1, 1, 1, 1, 0, 0, 0, 0, 1, 1,\n",
       "       0, 0, 0, 0, 0, 1, 1, 0, 1, 0, 1, 1], dtype=int64)"
      ]
     },
     "execution_count": 67,
     "metadata": {},
     "output_type": "execute_result"
    }
   ],
   "source": [
    "labels_"
   ]
  },
  {
   "cell_type": "code",
   "execution_count": 68,
   "id": "47047e4b",
   "metadata": {},
   "outputs": [
    {
     "data": {
      "text/plain": [
       "<matplotlib.collections.PathCollection at 0x1a20f697850>"
      ]
     },
     "execution_count": 68,
     "metadata": {},
     "output_type": "execute_result"
    },
    {
     "data": {
      "image/png": "[encoded data removed]",
      "text/plain": [
       "<Figure size 720x504 with 1 Axes>"
      ]
     },
     "metadata": {
      "needs_background": "light"
     },
     "output_type": "display_data"
    }
   ],
   "source": [
    "plt.figure(figsize=(10, 7))\n",
    "plt.scatter(df[:,0], df[:,1], c=cluster.labels_, cmap='rainbow')"
   ]
  },
  {
   "cell_type": "code",
   "execution_count": null,
   "id": "39185314",
   "metadata": {},
   "outputs": [],
   "source": []
  }
 ],
 "metadata": {
  "kernelspec": {
   "display_name": "Python 3 (ipykernel)",
   "language": "python",
   "name": "python3"
  },
  "language_info": {
   "codemirror_mode": {
    "name": "ipython",
    "version": 3
   },
   "file_extension": ".py",
   "mimetype": "text/x-python",
   "name": "python",
   "nbconvert_exporter": "python",
   "pygments_lexer": "ipython3",
   "version": "3.9.7"
  }
 },
 "nbformat": 4,
 "nbformat_minor": 5
}
